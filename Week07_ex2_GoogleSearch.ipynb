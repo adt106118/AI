{
 "cells": [
  {
   "cell_type": "code",
   "execution_count": 28,
   "metadata": {},
   "outputs": [
    {
     "name": "stdout",
     "output_type": "stream",
     "text": [
      "標題:寒流、冷氣團怎麼分？3分鐘讓你變冷天氣大師#低溫(140563) - 癮科技 ...https://www.cool3c.com › 科學新知\n",
      "網址:/url?q=https://www.cool3c.com/article/140563&sa=U&ved=2ahUKEwioo46-qqDlAhVKIqwKHd6-DwkQFjADegQICBAB&usg=AOvVaw1lrGoj9WAM-pMhAOrZRsMH\n",
      "標題:寒流、冷氣團傻傻分不清？一張圖秒懂六大冷空氣- 生活- 中時電子報https://www.chinatimes.com › 生活\n",
      "網址:/url?q=https://www.chinatimes.com/realtimenews/20181229002055-260405&sa=U&ved=2ahUKEwioo46-qqDlAhVKIqwKHd6-DwkQFjAEegQIChAB&usg=AOvVaw1BGdjrq_dRrvZhVUEHYtnU\n",
      "標題:天氣即時預報- 入冬首波寒流！週四(9日)起，全台寒冷，低溫下探10°C ...https://www.facebook.com › weather.taiwan › posts\n",
      "網址:/url?q=https://www.facebook.com/weather.taiwan/posts/1276103999112022/&sa=U&ved=2ahUKEwioo46-qqDlAhVKIqwKHd6-DwkQFjAFegQICRAB&usg=AOvVaw2TYtAMpCGCUybRUFC_nrR8\n",
      "標題:最強寒流來襲| 三立新聞網https://www.setn.com › project\n",
      "網址:/url?q=https://www.setn.com/project.aspx%3FProjectID%3D1060&sa=U&ved=2ahUKEwioo46-qqDlAhVKIqwKHd6-DwkQFjAGegQIBhAB&usg=AOvVaw0hOVDmOulhmvNBfzeHRgtZ\n",
      "標題:2016年1月北半球寒流- 维基百科，自由的百科全书https://zh.wikipedia.org › zh-tw › 2016年1月北半球寒流\n",
      "網址:/url?q=https://zh.wikipedia.org/zh-tw/2016%25E5%25B9%25B41%25E6%259C%2588%25E5%258C%2597%25E5%258D%258A%25E7%2590%2583%25E5%25AF%2592%25E6%25B5%2581&sa=U&ved=2ahUKEwioo46-qqDlAhVKIqwKHd6-DwkQFjAHegQIBxAB&usg=AOvVaw0JdjqhM9FJtfUgMM8prY5x\n",
      "標題:中央氣象局數位科普網-小石虎的寒流問題 - 中央氣象局氣象會員登入https://pweb.cwb.gov.tw › PopularScience › index.php › prevention › 373-...\n",
      "網址:/url?q=https://pweb.cwb.gov.tw/PopularScience/index.php/prevention/373-%25E5%25B0%258F%25E7%259F%25B3%25E8%2599%258E%25E7%259A%2584%25E5%25AF%2592%25E6%25B5%2581%25E5%2595%258F%25E9%25A1%258C&sa=U&ved=2ahUKEwioo46-qqDlAhVKIqwKHd6-DwkQFjAIegQIBBAB&usg=AOvVaw0SJAy8JZWEcjYCsbuw2k5v\n",
      "標題:維尼哥哥科學選文16：任立渝∼寒流來了！www.bud.org.tw › Winnie › Winnie16\n",
      "網址:/url?q=http://www.bud.org.tw/Winnie/Winnie16.htm&sa=U&ved=2ahUKEwioo46-qqDlAhVKIqwKHd6-DwkQFjAJegQIARAB&usg=AOvVaw0Wlbu11lk3jOwkeF1QSDs4\n",
      "標題:氣象局一張圖來了！ 未來一周降溫但寒流不會來| 生活新聞| 生活| 聯合 ...https://udn.com › 生活\n",
      "網址:/url?q=https://udn.com/news/story/7266/3514053&sa=U&ved=2ahUKEwioo46-qqDlAhVKIqwKHd6-DwkQFjAKegQIAxAB&usg=AOvVaw2viwbFWJkdBL95kUrgLKDV\n",
      "標題:冷氣團寒流知識- 台灣氣象知識網 - Google Siteshttps://sites.google.com › site › home › leng-qi-tuan-han-liu-zhi-shi\n",
      "網址:/url?q=https://sites.google.com/site/taiwanqixiangzhishiwang/home/leng-qi-tuan-han-liu-zhi-shi&sa=U&ved=2ahUKEwioo46-qqDlAhVKIqwKHd6-DwkQFjALegQIBRAB&usg=AOvVaw0HBXQYBZVdKpaDVF5WCQS_\n",
      "標題:溫度破紀錄？氣象局：今年全季沒寒流！是1947年來最暖冬季| 生活| 新 ...https://newtalk.tw › news › view\n",
      "網址:/url?q=https://newtalk.tw/news/view/2019-03-05/215262&sa=U&ved=2ahUKEwioo46-qqDlAhVKIqwKHd6-DwkQFjAMegQIAhAB&usg=AOvVaw3uVHQ5IvphFJ6wDcVWpnnL\n"
     ]
    }
   ],
   "source": [
    "import requests\n",
    "from bs4 import BeautifulSoup\n",
    "\n",
    "googleURL = \"http://www.google.com.tw/search\"\n",
    "\n",
    "my_params = {'q' : '寒流'}\n",
    "\n",
    "r = requests.get(googleURL, params = my_params)\n",
    "\n",
    "#確認是否下載成功\n",
    "if r.status_code == requests.codes.ok:\n",
    "    soup = BeautifulSoup(r.text, 'html.parser')\n",
    "    # 可觀察原始碼\n",
    "    # print(soup.prettify())\n",
    "    \n",
    "    items = soup.select('div.kCrYT > a[href^=\"/url\"]')\n",
    "    for i in items:\n",
    "        print(\"標題:\" + i.text)\n",
    "        print(\"網址:\" + i.get(\"href\"))\n",
    "    "
   ]
  },
  {
   "cell_type": "code",
   "execution_count": null,
   "metadata": {},
   "outputs": [],
   "source": []
  }
 ],
 "metadata": {
  "kernelspec": {
   "display_name": "Python 3",
   "language": "python",
   "name": "python3"
  },
  "language_info": {
   "codemirror_mode": {
    "name": "ipython",
    "version": 3
   },
   "file_extension": ".py",
   "mimetype": "text/x-python",
   "name": "python",
   "nbconvert_exporter": "python",
   "pygments_lexer": "ipython3",
   "version": "3.7.0"
  }
 },
 "nbformat": 4,
 "nbformat_minor": 2
}
