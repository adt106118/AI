{
 "cells": [
  {
   "cell_type": "code",
   "execution_count": 4,
   "metadata": {},
   "outputs": [
    {
     "name": "stdout",
     "output_type": "stream",
     "text": [
      "身高(cm):175\n",
      "體重(kg):80\n"
     ]
    }
   ],
   "source": [
    "BMI = 0\n",
    "height = float(input(\"身高(cm):\"))\n",
    "weight = float(input(\"體重(kg):\" ))\n",
    "height = float(height / 100)"
   ]
  },
  {
   "cell_type": "code",
   "execution_count": 5,
   "metadata": {},
   "outputs": [
    {
     "name": "stdout",
     "output_type": "stream",
     "text": [
      "你的BMI值是 26.12\n"
     ]
    }
   ],
   "source": [
    "BMI = (weight) / (height * height)\n",
    "print(\"你的BMI值是 %0.2f\" %(BMI) )"
   ]
  },
  {
   "cell_type": "code",
   "execution_count": 14,
   "metadata": {},
   "outputs": [
    {
     "name": "stdout",
     "output_type": "stream",
     "text": [
      "\n",
      "你很壯哦，ナイスマッスルです！\n"
     ]
    }
   ],
   "source": [
    "if BMI <= 18.5 and BMI > 0:\n",
    "    print(\"\\n你的體重太輕拉\")\n",
    "elif BMI <= 24:\n",
    "    print(\"\\n你的體重剛好哦\")\n",
    "elif BMI > 24:\n",
    "    print(\"\\n你很壯哦，ナイスマッスルです！\")\n",
    "else :\n",
    "    print(\"你是鬼吧?\")"
   ]
  }
 ],
 "metadata": {
  "kernelspec": {
   "display_name": "Python 3",
   "language": "python",
   "name": "python3"
  },
  "language_info": {
   "codemirror_mode": {
    "name": "ipython",
    "version": 3
   },
   "file_extension": ".py",
   "mimetype": "text/x-python",
   "name": "python",
   "nbconvert_exporter": "python",
   "pygments_lexer": "ipython3",
   "version": "3.7.0"
  }
 },
 "nbformat": 4,
 "nbformat_minor": 2
}
