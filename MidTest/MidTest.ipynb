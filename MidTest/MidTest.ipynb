{
 "cells": [
  {
   "cell_type": "code",
   "execution_count": 74,
   "metadata": {},
   "outputs": [
    {
     "name": "stdout",
     "output_type": "stream",
     "text": [
      "話題場景restaurant\n",
      "{'ID': 1, 'Convers': ['這間餐廳價格挺便宜呢。', '是阿，真D便宜又大碗。']}\n",
      "1\n"
     ]
    }
   ],
   "source": [
    "import json\n",
    "import os\n",
    "\n",
    "amount = 0\n",
    "Number = 0 \n",
    "ID = 0  #該場景第幾個\n",
    "cleaning = False #清除陣列中\n",
    "arraytalk = []\n",
    "getconver = False\n",
    "getNumber = False\n",
    "data = {}\n",
    "typein = str(input(\"話題場景\"))\n",
    "\n",
    "\n",
    "\n",
    "with open(\"MidTest_BIGconversation.txt\", mode=\"r\") as file:\n",
    "    for line in file:\n",
    "        line = line.replace(\"\\n\",\"\")\n",
    "        if(getconver == True):\n",
    "            if(line == \"-\"):\n",
    "                getconver = False\n",
    "                cleaning = True\n",
    "                with open(\"JsonData_\"+str(ID)+\".json\" , mode=\"w\") as jsondata:\n",
    "                    #json.dump(ID, jsondata)\n",
    "                    #json.dump(arraytalk, jsondata)\n",
    "                    data = {\"ID\":ID, \"Convers\":arraytalk}\n",
    "                    json.dump(data, jsondata)\n",
    "                    print(data)\n",
    "                    while(cleaning == True):\n",
    "                        Number = Number - 1\n",
    "                        del arraytalk[Number]\n",
    "                        if(Number == 0):\n",
    "                            cleaning = False\n",
    "            else:\n",
    "                arraytalk.append(line)\n",
    "                Number = Number + 1\n",
    "        if(getNumber == True):\n",
    "            ID = int(line)    #讓ID儲存是該種的第幾個對話\n",
    "            getNumber = False\n",
    "            getconver = True\n",
    "        if(line == typein):\n",
    "            amount = amount +1  #取得該場景的對話在大數據中有幾個\n",
    "            getNumber = True      \n",
    "print(amount)\n"
   ]
  },
  {
   "cell_type": "code",
   "execution_count": null,
   "metadata": {},
   "outputs": [],
   "source": []
  },
  {
   "cell_type": "code",
   "execution_count": null,
   "metadata": {},
   "outputs": [],
   "source": []
  }
 ],
 "metadata": {
  "kernelspec": {
   "display_name": "Python 3",
   "language": "python",
   "name": "python3"
  }
 },
 "nbformat": 4,
 "nbformat_minor": 2
}
