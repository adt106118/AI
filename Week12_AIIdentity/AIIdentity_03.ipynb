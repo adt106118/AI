{
 "cells": [
  {
   "cell_type": "code",
   "execution_count": 2,
   "metadata": {},
   "outputs": [],
   "source": [
    "import numpy as np\n",
    "import cv2\n",
    "import os"
   ]
  },
  {
   "cell_type": "code",
   "execution_count": null,
   "metadata": {},
   "outputs": [],
   "source": [
    "number = 0\n",
    "cap = cv2.VideoCapture(0)\n",
    "\n",
    "while(True):\n",
    "    ret, frame = cap.read() #傳回值有兩個，第一個bool為有無搜尋到，第二個為一偵照片\n",
    "    cv2.imshow(\"NowFrame\", frame)\n",
    "    if cv2.waitKey(1) == ord(\"S\") or cv2.waitKey(1) == ord(\"s\"):\n",
    "        if(number < 10):\n",
    "            filepath = \"Test03_Picture_0\" + str(number) + \".png\"\n",
    "            while (os.path.isfile(filepath) == True):\n",
    "                number = number + 1\n",
    "                filepath = \"Test03_Picture_0\" + str(number) + \".PNG\"\n",
    "            cv2.imwrite(\"Test03_Picture_0\" + str(number) + \".png\", frame)\n",
    "        else:\n",
    "            filepath = \"Test03_Picture_\" + str(number) + \".png\"\n",
    "            while (os.path.isfile(filepath) == True):\n",
    "                number = number + 1\n",
    "                filepath = \"Test03_Picture_\" + str(number) + \".PNG\"\n",
    "            cv2.imwrite(\"Test03_Picture_\" + str(number) + \".png\", frame)\n",
    "    if(cv2.waitKey(1) == ord(\"C\") or cv2.waitKey(1) == ord(\"c\")):\n",
    "        cap.release()\n",
    "        cv2.destroyAllWindows()"
   ]
  },
  {
   "cell_type": "code",
   "execution_count": null,
   "metadata": {},
   "outputs": [],
   "source": []
  }
 ],
 "metadata": {
  "kernelspec": {
   "display_name": "Python 3",
   "language": "python",
   "name": "python3"
  },
  "language_info": {
   "codemirror_mode": {
    "name": "ipython",
    "version": 3
   },
   "file_extension": ".py",
   "mimetype": "text/x-python",
   "name": "python",
   "nbconvert_exporter": "python",
   "pygments_lexer": "ipython3",
   "version": "3.7.0"
  }
 },
 "nbformat": 4,
 "nbformat_minor": 2
}
