{
 "cells": [
  {
   "cell_type": "code",
   "execution_count": 2,
   "metadata": {},
   "outputs": [],
   "source": [
    "import numpy as np\n",
    "import cv2\n",
    "import os"
   ]
  },
  {
   "cell_type": "code",
   "execution_count": null,
   "metadata": {},
   "outputs": [],
   "source": [
    "number = 0\n",
    "face_cascade = cv2.CascadeClassifier(\"haarcascade_frontalface_default.xml\") #載入分析器\n",
    "cap = cv2.VideoCapture(0)\n",
    "while True:\n",
    "    _, img = cap.read()\n",
    "    gray = cv2.cvtColor(img, cv2.COLOR_BGR2GRAY)\n",
    "    faces = face_cascade.detectMultiScale(gray, 1.1, 4)\n",
    "    for(x, y, w, h) in faces :\n",
    "        cv2.rectangle(img, (x, y), (x+w, y+h), (0, 255, 0), 2)\n",
    "        cropIMG = img[y:y+h, x:x+w]\n",
    "    cv2.namedWindow(\"img\", cv2.WINDOW_NORMAL)\n",
    "    cv2.imshow(\"img\", img)\n",
    "    cv2.namedWindow(\"cropIMG\", cv2.WINDOW_NORMAL)\n",
    "    cv2.imshow(\"cropIMG\", cropIMG)\n",
    "    \n",
    "    filepath = \"Test05_Picture_\" + str(number) + \".png\"\n",
    "    while (os.path.isfile(filepath) == True):\n",
    "        number = number + 1\n",
    "        filepath = \"Test05_Picture_\" + str(number) + \".PNG\"\n",
    "    if cv2.waitKey(24) == ord(\"S\") or cv2.waitKey(24) == ord(\"s\"):\n",
    "        cv2.imwrite(filepath, img)    \n",
    "        cv2.imwrite(\"Test05_Picture_crop_\" +  str(number) + \".PNG\", cropIMG)\n",
    "    if cv2.waitKey(24) == ord(\"Q\"):\n",
    "        break\n",
    "cap.release()\n",
    "cv2.destroyAllWindows()"
   ]
  },
  {
   "cell_type": "code",
   "execution_count": null,
   "metadata": {},
   "outputs": [],
   "source": []
  }
 ],
 "metadata": {
  "kernelspec": {
   "display_name": "Python 3",
   "language": "python",
   "name": "python3"
  },
  "language_info": {
   "codemirror_mode": {
    "name": "ipython",
    "version": 3
   },
   "file_extension": ".py",
   "mimetype": "text/x-python",
   "name": "python",
   "nbconvert_exporter": "python",
   "pygments_lexer": "ipython3",
   "version": "3.7.0"
  }
 },
 "nbformat": 4,
 "nbformat_minor": 2
}
