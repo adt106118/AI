{
 "cells": [
  {
   "cell_type": "code",
   "execution_count": 79,
   "metadata": {},
   "outputs": [],
   "source": [
    "import numpy as np\n",
    "import cv2\n",
    "import os"
   ]
  },
  {
   "cell_type": "code",
   "execution_count": 80,
   "metadata": {},
   "outputs": [],
   "source": [
    "number = 0\n",
    "face_cascade = cv2.CascadeClassifier(\"haarcascade_frontalface_default.xml\") #載入分析器\n",
    "\n",
    "img = cv2.imread(\"09.jpg\")\n",
    "gray = cv2.cvtColor(img, cv2.COLOR_BGR2GRAY) #轉換圖片為灰階\n",
    "\n",
    "#偵測臉部\n",
    "faces = face_cascade.detectMultiScale(gray, scaleFactor=1.15, minNeighbors=1, minSize=(80, 80)) ##繪製人臉部分方塊\n",
    "for( x, y, w, h ) in faces:\n",
    "    cv2.rectangle(img, (x, y), (x+w, y+h), (0, 0, 255), 2)\n",
    "cv2.namedWindow(\"MyImage\", cv2.WINDOW_NORMAL)\n",
    "cv2.imshow(\"MyImage\", img)\n",
    "\n",
    "filepath = \"Test04_Result_\" + str(number) + \".png\"\n",
    "while (os.path.isfile(filepath) == True):\n",
    "    number = number + 1\n",
    "    filepath = \"Test04_Result_\" + str(number) + \".png\"\n",
    "cv2.imwrite(filepath, img)\n",
    "cv2.waitKey(0)\n",
    "cv2.destroyAllWindows()\n"
   ]
  },
  {
   "cell_type": "code",
   "execution_count": null,
   "metadata": {},
   "outputs": [],
   "source": []
  }
 ],
 "metadata": {
  "kernelspec": {
   "display_name": "Python 3",
   "language": "python",
   "name": "python3"
  },
  "language_info": {
   "codemirror_mode": {
    "name": "ipython",
    "version": 3
   },
   "file_extension": ".py",
   "mimetype": "text/x-python",
   "name": "python",
   "nbconvert_exporter": "python",
   "pygments_lexer": "ipython3",
   "version": "3.7.0"
  }
 },
 "nbformat": 4,
 "nbformat_minor": 2
}
