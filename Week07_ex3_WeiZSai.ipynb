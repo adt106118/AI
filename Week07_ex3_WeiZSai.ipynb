{
 "cells": [
  {
   "cell_type": "code",
   "execution_count": 20,
   "metadata": {},
   "outputs": [
    {
     "name": "stdout",
     "output_type": "stream",
     "text": [
      "開出順序: 16 13 33 15 14 31 \n",
      "大小順序: 13 14 15 16 31 33 \n",
      "第二區: 04 \n"
     ]
    }
   ],
   "source": [
    "import requests\n",
    "from bs4 import BeautifulSoup\n",
    "\n",
    "googleURL = \"https://www.taiwanlottery.com.tw/\"\n",
    "html = requests.get(googleURL)\n",
    "soup = BeautifulSoup(html.text, \"html.parser\")\n",
    "\n",
    "#print(soup.prettify())\n",
    "\n",
    "data1 = soup.select(\"#rightdown\")\n",
    "#print(data1)\n",
    "\n",
    "data2 = data1[0].find(\"div\", {\"class\":\"contents_box02\"})\n",
    "data3 = data2.find_all(\"div\", {\"class\":\"ball_tx ball_green\"})\n",
    "\n",
    "#print(data3)\n",
    "\n",
    "print(\"開出順序: \", end=\"\")\n",
    "for n in range(0,6):\n",
    "    print(data3[n].text, end=\"\")\n",
    "    \n",
    "print(\"\\n大小順序: \", end=\"\")\n",
    "for n in range(6, len(data3)):\n",
    "    print(data3[n].text, end=\"\")\n",
    "    \n",
    "#第二區\n",
    "red = data2.find(\"div\", {\"class\":\"ball_red\"})\n",
    "print(\"\\n第二區: {}\".format(red.text))\n"
   ]
  },
  {
   "cell_type": "code",
   "execution_count": null,
   "metadata": {},
   "outputs": [],
   "source": []
  }
 ],
 "metadata": {
  "kernelspec": {
   "display_name": "Python 3",
   "language": "python",
   "name": "python3"
  },
  "language_info": {
   "codemirror_mode": {
    "name": "ipython",
    "version": 3
   },
   "file_extension": ".py",
   "mimetype": "text/x-python",
   "name": "python",
   "nbconvert_exporter": "python",
   "pygments_lexer": "ipython3",
   "version": "3.7.0"
  }
 },
 "nbformat": 4,
 "nbformat_minor": 2
}
