{
 "cells": [
  {
   "cell_type": "code",
   "execution_count": 27,
   "metadata": {},
   "outputs": [
    {
     "name": "stdout",
     "output_type": "stream",
     "text": [
      "標題:示警霸王級寒流！氣象局「低溫燈號」11月上路10°C以下就亮燈 ...https://www.ettoday.net › 生活\n",
      "網址:/url?q=https://www.ettoday.net/news/20190923/1541351.htm&sa=U&ved=2ahUKEwi28NKzqqDlAhVMXK0KHU5YA2EQFjADegQIBhAB&usg=AOvVaw2hvtuztr26X2altIDOjSoC\n",
      "標題:寒流、冷氣團怎麼分？3分鐘讓你變冷天氣大師#低溫(140563) - 癮科技 ...https://www.cool3c.com › 科學新知\n",
      "網址:/url?q=https://www.cool3c.com/article/140563&sa=U&ved=2ahUKEwi28NKzqqDlAhVMXK0KHU5YA2EQFjAEegQICRAB&usg=AOvVaw1xfSGMW0JEA7m2nGCtkSWq\n",
      "標題:天氣即時預報- 入冬首波寒流！週四(9日)起，全台寒冷，低溫下探10°C ...https://www.facebook.com › weather.taiwan › posts\n",
      "網址:/url?q=https://www.facebook.com/weather.taiwan/posts/1276103999112022/&sa=U&ved=2ahUKEwi28NKzqqDlAhVMXK0KHU5YA2EQFjAFegQIBBAB&usg=AOvVaw3NBjrTxDu_NyOhXxRjyC1X\n",
      "標題:寒流、冷氣團傻傻分不清？一張圖秒懂六大冷空氣- 生活- 中時電子報https://www.chinatimes.com › 生活\n",
      "網址:/url?q=https://www.chinatimes.com/realtimenews/20181229002055-260405&sa=U&ved=2ahUKEwi28NKzqqDlAhVMXK0KHU5YA2EQFjAGegQIBxAB&usg=AOvVaw25Zb9PgM1Y_4zniDD8FVT9\n",
      "標題:最強寒流來襲| 三立新聞網https://www.setn.com › project\n",
      "網址:/url?q=https://www.setn.com/project.aspx%3FProjectID%3D1060&sa=U&ved=2ahUKEwi28NKzqqDlAhVMXK0KHU5YA2EQFjAHegQIBRAB&usg=AOvVaw1enEedQwsZehXm9c6cWD7m\n",
      "標題:2016年1月北半球寒流- 维基百科，自由的百科全书https://zh.wikipedia.org › zh-tw › 2016年1月北半球寒流\n",
      "網址:/url?q=https://zh.wikipedia.org/zh-tw/2016%25E5%25B9%25B41%25E6%259C%2588%25E5%258C%2597%25E5%258D%258A%25E7%2590%2583%25E5%25AF%2592%25E6%25B5%2581&sa=U&ved=2ahUKEwi28NKzqqDlAhVMXK0KHU5YA2EQFjAIegQIARAB&usg=AOvVaw1yUsi2FypulSkbJPurEqG3\n",
      "標題:寒流(影集) - Wikipedia - 维基百科https://zh.wikipedia.org › zh-tw › 寒流_(影集)\n",
      "網址:/url?q=https://zh.wikipedia.org/zh-tw/%25E5%25AF%2592%25E6%25B5%2581_(%25E5%25BD%25B1%25E9%259B%2586)&sa=U&ved=2ahUKEwi28NKzqqDlAhVMXK0KHU5YA2EQFjAPegQIAhAB&usg=AOvVaw2zEQRAAhfSJQkhFEhXCH30\n",
      "標題:中央氣象局數位科普網-小石虎的寒流問題 - 中央氣象局氣象會員登入https://pweb.cwb.gov.tw › PopularScience › index.php › prevention › 373-...\n",
      "網址:/url?q=https://pweb.cwb.gov.tw/PopularScience/index.php/prevention/373-%25E5%25B0%258F%25E7%259F%25B3%25E8%2599%258E%25E7%259A%2584%25E5%25AF%2592%25E6%25B5%2581%25E5%2595%258F%25E9%25A1%258C&sa=U&ved=2ahUKEwi28NKzqqDlAhVMXK0KHU5YA2EQFjAQegQIAxAB&usg=AOvVaw0VauGvcces-JKkPjLSsI-_\n",
      "標題:溫度破紀錄？氣象局：今年全季沒寒流！是1947年來最暖冬季| 生活| 新 ...https://newtalk.tw › news › view\n",
      "網址:/url?q=https://newtalk.tw/news/view/2019-03-05/215262&sa=U&ved=2ahUKEwi28NKzqqDlAhVMXK0KHU5YA2EQFjARegQIChAB&usg=AOvVaw0Nh6kxEgWRqn1GBswErOWD\n"
     ]
    }
   ],
   "source": [
    "import requests\n",
    "from bs4 import BeautifulSoup\n",
    "\n",
    "googleURL = \"http://www.google.com.tw/search\"\n",
    "\n",
    "my_params = {'q' : '寒流'}\n",
    "\n",
    "r = requests.get(googleURL, params = my_params)\n",
    "\n",
    "#確認是否下載成功\n",
    "if r.status_code == requests.codes.ok:\n",
    "    soup = BeautifulSoup(r.text, 'html.parser')\n",
    "    # 可觀察原始碼\n",
    "    # print(soup.prettify())\n",
    "    \n",
    "    items = soup.select('div.kCrYT > a[href^=\"/url\"]')\n",
    "    for i in items:\n",
    "        print(\"標題:\" + i.text)\n",
    "        print(\"網址:\" + i.get(\"href\"))\n",
    "    "
   ]
  },
  {
   "cell_type": "code",
   "execution_count": null,
   "metadata": {},
   "outputs": [],
   "source": []
  }
 ],
 "metadata": {
  "kernelspec": {
   "display_name": "Python 3",
   "language": "python",
   "name": "python3"
  },
  "language_info": {
   "codemirror_mode": {
    "name": "ipython",
    "version": 3
   },
   "file_extension": ".py",
   "mimetype": "text/x-python",
   "name": "python",
   "nbconvert_exporter": "python",
   "pygments_lexer": "ipython3",
   "version": "3.7.0"
  }
 },
 "nbformat": 4,
 "nbformat_minor": 2
}
