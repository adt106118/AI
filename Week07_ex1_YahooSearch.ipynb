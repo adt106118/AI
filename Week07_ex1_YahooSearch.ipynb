{
 "cells": [
  {
   "cell_type": "code",
   "execution_count": 18,
   "metadata": {},
   "outputs": [
    {
     "name": "stdout",
     "output_type": "stream",
     "text": [
      "標題: 驚爆！陸製偽標品賣全台學校\n",
      "網址: https://tw.news.yahoo.com/%E9%BB%83%E5%9C%8B%E6%98%8C%E9%A9%9A%E7%88%86%E4%B8%AD%E8%A3%BD%E5%81%BD%E6%A8%99%E5%93%81%E8%B3%A3%E5%85%A8%E5%8F%B0%E5%AD%B8%E6%A0%A1%E6%88%90%E5%8A%9F%E5%B6%BA%E4%B9%9F%E6%B7%AA%E9%99%B7-041015286.html\n",
      "標題: KID道歉「績優役男」保不住了\n",
      "網址: https://tw.news.yahoo.com/%E6%9C%8D%E6%9B%BF%E4%BB%A3%E5%BD%B9%E7%88%86%E8%84%AB%E5%BA%8F%E8%AA%87%E5%BC%B5%E8%A1%8C%E5%BE%91-kid%E9%81%93%E6%AD%89%E4%BA%86-043256031.html\n",
      "標題: 無預警！63萬人粉專突被下架\n",
      "網址: https://tw.news.yahoo.com/%E9%9F%93%E7%B2%89%E5%87%BA%E5%BE%81-%E6%93%8163%E8%90%AC%E8%B2%93%E5%A5%B4%E8%87%89%E6%9B%B8%E7%A4%BE%E5%9C%98%E8%A2%AB%E4%B8%8B%E6%9E%B6-153215790.html\n",
      "標題: 13歲當小媽媽 孩子的爸是舅舅\n",
      "網址: https://tw.news.yahoo.com/%E8%B6%85%E9%9B%A2%E8%AD%9C-13%E6%AD%B2%E5%8F%B0%E5%A6%B9%E6%87%B7%E5%AD%95%E7%94%A2%E5%AD%90-%E5%B0%8F%E5%AD%A9%E7%94%9F%E7%88%B6%E7%AB%9F%E6%98%AF%E8%88%85%E8%88%85-140000033.html\n",
      "標題: 蔡英文 小心成為川普下枚棄子\n",
      "網址: https://tw.news.yahoo.com/-yahoo%E8%AB%96%E5%A3%87%E9%99%B3%E5%9C%8B%E7%A5%A5%E8%94%A1%E8%8B%B1%E6%96%87%E4%B8%8D%E8%A6%81%E8%A2%AB%E5%B7%9D%E6%99%AE%E5%A7%8B%E4%BA%82%E7%B5%82%E6%A3%84-230027138.html\n",
      "標題: 季後賽揚威 田中獲封10月先生\n",
      "網址: https://tw.news.yahoo.com/mlb-%E5%BE%9E%E7%A5%9E%E4%B9%8B%E5%AD%90%E5%88%B010%E6%9C%88%E4%B9%8B%E7%A5%9E-%E7%94%B0%E4%B8%AD%E5%B0%87%E5%A4%A7%E5%AD%A3%E5%BE%8C%E8%B3%BD%E6%96%B0%E7%B6%BD%E8%99%9F-045640138.html\n",
      "標題: 球迷脫序演出 瑞迪克發飆了\n",
      "網址: https://tw.news.yahoo.com/mlb-%E6%B4%8B%E5%9F%BA%E8%BF%B7%E4%B8%8D%E5%B0%8A%E9%87%8D%E6%AF%94%E8%B3%BD-%E4%B8%9F%E7%89%A9%E5%93%81%E9%80%B2%E5%A0%B4%E6%83%B9%E7%81%AB%E5%A4%AA%E7%A9%BA%E4%BA%BA%E5%A4%96%E9%87%8E%E6%89%8B-051544252.html\n",
      "標題: 左投嗑藥暴斃 天使竟知情不報\n",
      "網址: https://tw.sports.yahoo.com/news/mlb-%E5%A4%A9%E4%BD%BF%E6%8A%95%E6%89%8B%E5%97%91%E8%97%A5%E9%81%8E%E9%87%8F%E6%9A%B4%E6%96%83-%E7%90%83%E5%9C%98%E7%9F%A5%E6%83%85%E4%B8%8D%E5%A0%B1%E6%81%90%E6%8C%A8%E7%BD%B0-030508016.html\n",
      "標題: 投打守全面改造 開啟兄弟王朝\n",
      "網址: https://yahoo-cpbl-30th.tumblr.com/post/188226966109/30%E9%80%B1%E5%B9%B4%E9%AD%94%E8%A1%93%E6%95%99%E9%A0%AD-%E5%B1%B1%E6%A0%B9%E4%BF%8A%E8%8B%B1%E7%9A%84%E5%86%A0%E8%BB%8D%E9%8D%8A%E9%87%91%E8%A1%93\n",
      "標題: 打造運動時尚 靠這幾招就對了\n",
      "網址: https://tw.sports.yahoo.com/news/2019-%E7%A7%8B%E5%86%AC%E9%81%8B%E5%8B%95%E6%99%82%E5%B0%9A%E6%80%8E%E9%BA%BC%E7%A9%BF%E4%B8%8D%E5%A4%B1%E6%89%8B%E5%AD%B8%E9%9F%93%E6%98%9F%E9%80%99%E5%B9%BE%E6%8B%9B%E7%A9%BF%E8%B5%B7%E4%BE%86%E5%B0%B1%E5%B0%8D%E4%BA%86-081358984.html\n",
      "標題: 丁國琳被打槍 全因「太年輕」\n",
      "網址: https://tw.news.yahoo.com/%E4%B8%81%E5%9C%8B%E7%90%B3%E5%BF%83%E6%83%85%E4%B8%8D%E7%BE%8E%E9%BA%97-%E7%AB%9F%E5%9B%A0-%E5%A4%AA%E5%B9%B4%E8%BC%95-%E9%81%AD%E8%A3%BD%E4%BD%9C%E5%96%AE%E4%BD%8D%E6%89%93%E6%A7%8D-044335268.html\n",
      "標題: 王子放閃新招！祝福文藏心機\n",
      "網址: https://tw.news.yahoo.com/%E7%8E%8B%E5%AD%90%E6%94%BE%E9%96%83%E6%96%B0%E6%8B%9B-%E7%A5%9D%E5%A5%B3%E5%8F%8B%E7%94%9F%E6%97%A5%E8%97%8F%E8%B6%85%E7%94%9C%E5%BF%83%E6%A9%9F-055005982.html\n",
      "標題: 赴韓喝喜酒這樣穿 瑤瑤被冷眼\n",
      "網址: https://tw.news.yahoo.com/%E9%9F%93%E5%9C%8B%E5%96%9D%E5%96%9C%E9%85%92-%E7%A9%BF%E9%8C%AF%E8%A1%A3-%E8%A2%AB%E5%86%B7%E7%9C%BC-%E5%A5%B3%E6%98%9F-%E5%9C%A8%E5%8F%B0%E7%81%A3%E5%BE%88ok%E5%95%8A-031631264.html\n",
      "標題: 「小丑」拍戲發飆？原來是假的\n",
      "網址: https://movies.yahoo.com.tw/article/小丑-拍戲發飆其實是假的-大家都被瓦昆整了-083145778.html\n",
      "標題: 確診肺癌！李麗霞急動刀保命\n",
      "網址: https://tw.news.yahoo.com/%E7%A2%BA%E8%A8%BA%E8%82%BA%E7%99%8C%E8%85%A6%E8%85%AB%E7%98%A4-%E5%A5%B3%E6%98%9F%E6%80%A5%E5%88%87%E5%B7%A6%E8%82%BA%E8%91%89%E4%BF%9D%E5%91%BD-031506380.html\n",
      "標題: 豪宅旁凸1大根 內行：有用途\n",
      "網址: https://travel.yahoo.com.tw/%E9%87%91%E9%96%80-%E6%B0%B4%E9%A0%AD%E8%81%9A%E8%90%BD%E5%BE%97%E6%9C%88%E6%A8%93-010240181.html#1016im\n",
      "標題: 50年這顆排翻 不知1事當場囧\n",
      "網址: https://travel.yahoo.com.tw/%E6%A1%83%E5%9C%92-%E6%B2%92%E5%90%83%E9%81%8E%E9%80%99-%E5%AE%B6%E5%88%A5%E8%AA%AA%E4%BD%A0%E4%BE%86%E9%81%8E%E5%A4%A7%E6%BA%AA%E8%80%81%E8%A1%97-%E7%86%B1%E8%B3%A350%E5%B9%B4%E8%B6%85%E7%8B%82%E6%8E%92%E9%9A%8A%E5%90%8D%E5%BA%97-085152915.html#1016im\n",
      "標題: 台海邊解放？正妹穿醬男母湯\n",
      "網址: https://travel.yahoo.com.tw/news/%E7%BE%8E%E5%93%AD%E4%BA%86%E5%8F%B0%E5%8C%97%E5%9F%8E%E8%A3%A1%E7%9A%84%E9%80%99%E5%B9%BE%E5%AE%B6%E5%92%96%E5%95%A1%E9%A4%A8%E5%A4%A2%E5%B9%BB%E5%88%B0%E4%B8%8D%E7%94%A8%E9%A3%9B%E5%87%BA%E5%9C%8B-052540887.html#1016im\n",
      "標題: 室友激戰女友 轉頭見另一幕傻\n",
      "網址: https://tw.news.yahoo.com/%E5%AE%BF%E8%88%8D%E8%AE%8A%E7%82%AE%E6%88%BF-%E5%AE%A4%E5%8F%8B%E5%92%8C%E5%A5%B3%E5%8F%8B%E5%95%AA%E5%95%AA-%E4%BB%96%E9%A9%9A%E8%A6%8B%E5%8F%A6-%E5%B9%95%E6%84%A3%E4%BD%8F-080500561.html#1015im\n",
      "標題: 女體藏8cm流汁 揭2年真相醫呆\n",
      "網址: https://tw.news.yahoo.com/%E7%8B%82%E6%B5%81%E8%86%BF%E6%B1%81%E8%87%89%E5%BF%AB%E7%88%9B-%E5%A5%B3%E8%82%89%E8%A3%A1%E8%97%8F8cm%E6%A8%B9%E6%9E%9D-%E5%AE%B6%E4%BA%BA%E6%8F%AD%E9%A9%9A%E4%BA%BA%E7%9C%9F%E7%9B%B8-123012926.html#1016im\n",
      "標題: 49天閃婚！陸尪po文認誤了台妻\n",
      "網址: https://style.yahoo.com.tw/%E6%B1%AA%E5%B0%8F%E8%8F%B2%E5%8D%8A%E5%A4%9C%E7%99%BC%E6%96%87%E6%84%9F%E5%98%86%E6%84%9F%E8%A6%BA%E8%80%BD%E8%AA%A4%E5%A4%A7s-%E8%A6%81%E4%B8%8D%E6%98%AF%E5%9B%A0%E7%82%BA%E6%88%91-%E5%A5%B9-%E5%AE%9A%E6%9C%89%E6%9B%B4%E5%A5%BD%E7%9A%84%E6%88%90%E5%B0%B1%E5%90%A7-%E4%BD%86%E7%B6%B2%E5%8F%8B%E7%9A%84%E8%A9%95%E8%AB%96%E6%84%8F%E5%A4%96%E6%9A%96%E5%BF%83-235500375.html#1016ac\n",
      "標題: 切除雙乳離3次婚 世界最美近況\n",
      "網址: https://style.yahoo.com.tw/%E5%AE%89%E6%BD%94%E8%8E%89%E5%A8%9C%E8%A3%98%E8%8E%89%E6%95%99%E8%82%B2%E5%A5%B3%E5%85%92-%E5%86%8D%E7%BE%8E%E7%9A%84%E5%A4%96%E8%A1%A8%E9%83%BD%E5%8F%AA%E6%98%AF%E8%BB%80%E6%AE%BC-%E5%8F%AA%E6%9C%89%E5%AD%B8%E6%9C%83%E7%8D%A8%E7%AB%8B%E6%80%9D%E8%80%83%E6%89%8D%E8%83%BD%E8%AE%93%E5%A6%B3%E6%92%A9%E4%BA%BA-020000184.html#1016ac\n",
      "標題: 臉上乾巴巴？CNN：喝這杯才對\n",
      "網址: https://style.yahoo.com.tw/%E8%82%8C%E8%86%9A%E8%A6%81%E5%A5%BD%E5%85%89%E5%96%9D%E6%B0%B4%E9%82%84%E4%B8%8D%E5%A4%A0%E5%A4%96%E5%9C%8B%E7%A0%94%E7%A9%B6%E5%A4%9A%E5%96%9D%E9%80%99%E4%B8%80%E6%A8%A3%E6%89%8D%E6%AD%A3%E7%A2%BA-012212478.html#1016ac\n",
      "標題: 瘦不下來…吃飯多30秒甩肥肉了\n",
      "網址: https://style.yahoo.com.tw/%E6%80%8E%E9%BA%BC%E6%B8%9B%E8%82%A5%E9%83%BD%E7%98%A6%E4%B8%8D%E4%B8%8B%E4%BE%86-%E8%B7%9F-%E9%80%99%E4%BB%B6%E4%BA%8B-%E6%9C%89%E5%BE%88%E5%A4%A7%E7%9A%84%E9%97%9C%E4%BF%82-%E7%A0%94%E7%A9%B6%E9%A1%AF%E7%A4%BA-130000724.html#1016ac\n",
      "標題: 90%人用過 高CP值開架銷量第1\n",
      "網址: https://style.yahoo.com.tw/%E9%80%99-7-%E5%80%8B%E7%89%8C%E5%AD%90-90-%E7%9A%84%E4%BA%BA%E7%B5%95%E5%B0%8D%E9%83%BD%E7%94%A8%E9%81%8E%E7%84%A1%E7%97%9B%E5%85%A5%E6%89%8B%E9%AB%98cp%E5%80%BC%E7%BE%8E%E5%A6%9D%E8%A6%81%E8%B2%B7%E4%BB%80%E9%BA%BC%E9%80%9A%E9%80%9A%E5%B9%AB%E4%BD%A0%E7%95%AB%E5%A5%BD%E9%87%8D%E9%BB%9E%E5%95%A6-005525567.html#1016ac\n",
      "標題: 癌三年復發 老闆娘化療吐遺言\n",
      "網址: https://www.litv.tv/vod/drama/content.do?content_id=VOD00155076&sponsorName=eWFob28=&autoPlay=1#1016hh\n",
      "標題: 堅持不露臉 最紅主將慘丟飯碗\n",
      "網址: https://tw.tv.yahoo.com/thekingsavatar/%E5%85%A8%E8%81%B7%E9%AB%98%E6%89%8B-ep01-%E5%AE%8C%E6%95%B4%E7%89%88-020000060.html#1016hh\n",
      "標題: 砸千萬假鈔當老闆 名作家坐牢\n",
      "網址: https://tw.tv.yahoo.com/unexpected/%E4%BE%86%E5%88%B0%E4%BD%A0%E7%9A%84%E4%B8%96%E7%95%8C-ep02-%E5%AE%8C%E6%95%B4%E7%89%88-021000820.html#1016hh\n",
      "標題: 600萬成壁紙 退休翻身買三房\n",
      "網址: https://tw.tv.yahoo.com/mirrormedia/%E9%81%94%E4%BA%BA%E7%90%86%E8%B2%A1-%E6%9C%80%E7%94%A8%E5%8A%9F%E7%9A%84%E6%8A%95%E8%B3%87%E8%80%81%E5%B0%87-%E8%82%A1%E7%B4%A0%E4%BA%BA%E7%9A%84%E4%B8%8D%E6%9C%83%E5%80%92%E6%94%B6%E7%A7%9F%E8%82%A1%E6%93%8D%E4%BD%9Csop-233000460.html#1016hh\n",
      "標題: 寵物養這隻？戰鬥民族也怕了\n",
      "網址: https://tw.tv.yahoo.com/ycreators/%E6%88%B0%E9%AC%A5%E6%B0%91%E6%97%8F%E9%83%BD%E8%B7%9F%E7%86%8A%E6%89%93%E6%9E%B6%E5%97%8E-%E5%AF%A6%E9%9A%9B%E8%A8%AA%E5%95%8F%E7%A0%B4%E8%A7%A3%E4%BF%84%E7%BE%85%E6%96%AF9%E5%A4%A7%E8%BF%B7%E6%80%9D-141126938.html#1006hh\n"
     ]
    }
   ],
   "source": [
    "import requests\n",
    "from bs4 import BeautifulSoup\n",
    "\n",
    "#下載YAHOO內容\n",
    "r = requests.get(\"https://tw.yahoo.com/\")\n",
    "\n",
    "#確認是否下載成功\n",
    "if r.status_code == requests.codes.ok:\n",
    "    #beautifulsoups 解析 html\n",
    "    soup = BeautifulSoup(r.text, 'html.parser')\n",
    "    \n",
    "    #以CSS的class 抓出各類新聞頭條\n",
    "    stories = soup.find_all(\"a\", class_=\"story-title\")\n",
    "    for s in stories:\n",
    "        #新聞標題\n",
    "        print(\"標題: \" + s.text)\n",
    "        #新聞網址\n",
    "        print(\"網址: \" + s.get(\"href\"))"
   ]
  },
  {
   "cell_type": "code",
   "execution_count": null,
   "metadata": {},
   "outputs": [],
   "source": []
  }
 ],
 "metadata": {
  "kernelspec": {
   "display_name": "Python 3",
   "language": "python",
   "name": "python3"
  },
  "language_info": {
   "codemirror_mode": {
    "name": "ipython",
    "version": 3
   },
   "file_extension": ".py",
   "mimetype": "text/x-python",
   "name": "python",
   "nbconvert_exporter": "python",
   "pygments_lexer": "ipython3",
   "version": "3.7.0"
  }
 },
 "nbformat": 4,
 "nbformat_minor": 2
}
