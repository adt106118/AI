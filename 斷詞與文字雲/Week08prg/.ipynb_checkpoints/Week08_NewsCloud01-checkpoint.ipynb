{
 "cells": [
  {
   "cell_type": "code",
   "execution_count": 1,
   "metadata": {},
   "outputs": [
    {
     "name": "stdout",
     "output_type": "stream",
     "text": [
      "請輸入要搜尋的關鍵字露易絲\n"
     ]
    },
    {
     "name": "stderr",
     "output_type": "stream",
     "text": [
      "Building prefix dict from C:\\Users\\User\\Pyhon3.7_School\\working\\AI\\斷詞與文字雲\\Week08prg\\dictionary\\dict.txt.big.txt ...\n",
      "Loading model from cache C:\\Users\\User\\AppData\\Local\\Temp\\jieba.u10536642f176ef9649a8e35625fca81f.cache\n"
     ]
    },
    {
     "name": "stdout",
     "output_type": "stream",
     "text": [
      "標題:露易絲  夢遊仙境www.loiswonderland.com › blog\n",
      "網址:/url?q=http://www.loiswonderland.com/blog&sa=U&ved=2ahUKEwjfyKPDyMPlAhU6wosBHYaaCfQQFjAJegQIBhAB&usg=AOvVaw1GChGSERn8BygZhyxunITj\n",
      "標題:孕•育@ 露易絲  夢遊仙境:: 痞客邦::www.loiswonderland.com › blog › category\n",
      "網址:/url?q=http://www.loiswonderland.com/blog/category/3004240&sa=U&ved=2ahUKEwjfyKPDyMPlAhU6wosBHYaaCfQQFjAKegQICBAB&usg=AOvVaw0RHyHOfiL63SJ74q8Ydq3o\n",
      "標題:露易絲夢遊仙境- 首頁| Facebookhttps://zh-tw.facebook.com › LoisWonderLand\n",
      "網址:/url?q=https://zh-tw.facebook.com/LoisWonderLand&sa=U&ved=2ahUKEwjfyKPDyMPlAhU6wosBHYaaCfQQFjALegQIChAB&usg=AOvVaw2BaI4eCBUPT1fgKy_EnXIp\n",
      "標題:露易絲夢遊仙境 - Facebookhttps://www.facebook.com › LoisWonderLand\n",
      "網址:/url?q=https://www.facebook.com/LoisWonderLand/&sa=U&ved=2ahUKEwjfyKPDyMPlAhU6wosBHYaaCfQQFjAMegQIBxAB&usg=AOvVaw040WasSEfUqH_yHixYlkqG\n",
      "標題:露易絲- 维基百科，自由的百科全书https://zh.wikipedia.org › zh-tw › 露易絲\n",
      "網址:/url?q=https://zh.wikipedia.org/zh-tw/%25E9%259C%25B2%25E6%2598%2593%25E7%25B5%25B2&sa=U&ved=2ahUKEwjfyKPDyMPlAhU6wosBHYaaCfQQFjANegQIBRAB&usg=AOvVaw1aD4eR0EUV37GWiXL2egoJ\n",
      "標題:PChome 商店街-個人賣場-露易絲夢遊仙境seller.pcstore.com.tw › ...\n",
      "網址:/url?q=http://seller.pcstore.com.tw/S103209209/&sa=U&ved=2ahUKEwjfyKPDyMPlAhU6wosBHYaaCfQQFjAOegQIARAB&usg=AOvVaw13CjRrF1FgpO_0DMNAyVA8\n",
      "標題:露易絲·法蘭西斯·露·布朗·杜·拉·瓦利埃爾- 萌娘百科萬物皆可萌的百科 ...https://zh.moegirl.org › zh-tw › 露易丝·法兰西斯·露·布朗·杜·拉·瓦利埃尔\n",
      "網址:/url?q=https://zh.moegirl.org/zh-tw/%25E9%259C%25B2%25E6%2598%2593%25E4%25B8%259D%25C2%25B7%25E6%25B3%2595%25E5%2585%25B0%25E8%25A5%25BF%25E6%2596%25AF%25C2%25B7%25E9%259C%25B2%25C2%25B7%25E5%25B8%2583%25E6%259C%2597%25C2%25B7%25E6%259D%259C%25C2%25B7%25E6%258B%2589%25C2%25B7%25E7%2593%25A6%25E5%2588%25A9%25E5%259F%2583%25E5%25B0%2594&sa=U&ved=2ahUKEwjfyKPDyMPlAhU6wosBHYaaCfQQFjAPegQIAxAB&usg=AOvVaw1mQX5c4_sz9zV25kUFcG4i\n",
      "標題:露易絲賀親自帶領《鏡子練習》 - YouTubehttps://www.youtube.com › watch\n",
      "網址:/url?q=https://www.youtube.com/watch%3Fv%3DDnjBFv6AO-A&sa=U&ved=2ahUKEwjfyKPDyMPlAhU6wosBHYaaCfQQtwIwEHoECAQQAQ&usg=AOvVaw1RsGr9uOo7cw_icjfXoUHL\n",
      "標題:\n",
      "網址:/url?q=https://www.youtube.com/watch%3Fv%3DDnjBFv6AO-A&sa=U&ved=2ahUKEwjfyKPDyMPlAhU6wosBHYaaCfQQuAIwEHoECAQQAg&usg=AOvVaw2NO3DOltNA0DPVxDAMFEVM\n",
      "標題:博客來-作者-露易絲．賀 - 博客來網路商店https://search.books.com.tw › key › 露易絲．賀 › cat › all › adv_author\n",
      "網址:/url?q=https://search.books.com.tw/search/query/key/%25E9%259C%25B2%25E6%2598%2593%25E7%25B5%25B2%25EF%25BC%258E%25E8%25B3%2580/cat/all/adv_author/1&sa=U&ved=2ahUKEwjfyKPDyMPlAhU6wosBHYaaCfQQFjARegQIAhAB&usg=AOvVaw3zz_v16loCHPbrYTtdbMMk\n",
      "標題:露易絲隨手拍      , 線上商店| 蝦皮購物https://shopee.tw › spboy1007\n",
      "網址:/url?q=https://shopee.tw/spboy1007&sa=U&ved=2ahUKEwjfyKPDyMPlAhU6wosBHYaaCfQQFjASegQICRAB&usg=AOvVaw3r7mMwFebQ8azq8q2z445n\n"
     ]
    },
    {
     "name": "stderr",
     "output_type": "stream",
     "text": [
      "Loading model cost 1.462 seconds.\n",
      "Prefix dict has been built succesfully.\n"
     ]
    },
    {
     "data": {
      "text/plain": [
       "<Figure size 400x550 with 1 Axes>"
      ]
     },
     "metadata": {},
     "output_type": "display_data"
    },
    {
     "data": {
      "text/plain": [
       "<wordcloud.wordcloud.WordCloud at 0x1b98e455da0>"
      ]
     },
     "execution_count": 1,
     "metadata": {},
     "output_type": "execute_result"
    }
   ],
   "source": [
    "import requests\n",
    "from bs4 import BeautifulSoup\n",
    "\n",
    "from PIL import Image\n",
    "import matplotlib.pyplot as plt\n",
    "from wordcloud import WordCloud\n",
    "import jieba\n",
    "import numpy as np\n",
    "from collections import Counter\n",
    "import os\n",
    "\n",
    "googleURL = \"http://www.google.com.tw/search\"\n",
    "\n",
    "my_params = {'q' : str(input(\"請輸入要搜尋的關鍵字\"))}\n",
    "\n",
    "r = requests.get(googleURL, params = my_params)\n",
    "\n",
    "#確認是否下載成功\n",
    "if r.status_code == requests.codes.ok:\n",
    "    soup = BeautifulSoup(r.text, 'html.parser')\n",
    "    # 可觀察原始碼\n",
    "    #print(soup.prettify())\n",
    "    \n",
    "    text = \"\"\n",
    "    items = soup.select('div.kCrYT > a[href^=\"/url\"]')\n",
    "    for i in items:\n",
    "        print(\"標題:\" + i.text)\n",
    "        print(\"網址:\" + i.get(\"href\"))\n",
    "        text = text + i.text\n",
    "\n",
    "jieba.set_dictionary('dictionary/dict.txt.big.txt')\n",
    "with open('dictionary/stopWord_cloud.txt', 'r', encoding='utf-8-sig') as f:  #設定停用詞\n",
    "#with open('dictionary/stopWord_cloudmod.txt', 'r', encoding='utf-8-sig') as f:  #設定停用詞\n",
    "    stops = f.read().split('\\n')   \n",
    "terms = []  #儲存字詞\n",
    "for t in jieba.cut(text, cut_all=False):  #拆解句子為字詞\n",
    "    if t not in stops:  #不是停用詞\n",
    "        terms.append(t)\n",
    "diction = Counter(terms)\n",
    "# 可列印詞的統計數量\n",
    "#print(diction)\n",
    "\n",
    "#font = \"C:\\\\Windows\\\\Fonts\\\\simsun.ttc\"  #設定字型(宋體)\n",
    "font = \"C:\\\\Windows\\\\Fonts\\\\msjhbd.ttc\"  #設定字型(宋體)\n",
    "#wordcloud = WordCloud(font_path=\"C:\\\\Windows\\\\Fonts\\\\simsun.ttc\")\n",
    "\n",
    "maskpicture = np.array(Image.open(\"Week08_picture.png\"))  #設定文字雲形狀 \n",
    "#wordcloud = WordCloud(font_path=font) \n",
    "wordcloud = WordCloud(background_color=\"white\",mask=maskpicture, font_path=font)  #背景顏色預設黑色,改為白色,字體為宋體\n",
    "wordcloud.generate_from_frequencies(diction)  #產生文字雲\n",
    "\n",
    "#產生圖片\n",
    "plt.figure(figsize=(4,5.5))\n",
    "plt.imshow(wordcloud)\n",
    "plt.axis(\"off\")\n",
    "plt.show()\n",
    "\n",
    "number = 0\n",
    "filepath = \"news_Wordcloud0.PNG\"\n",
    "# 檢查檔案是否存在\n",
    "while (os.path.isfile(filepath) == True):\n",
    "    number = number + 1\n",
    "    filepath = \"news_Wordcloud\" + str(number) + \".PNG\"\n",
    "\n",
    "wordcloud.to_file(\"news_Wordcloud\" + str(number) + \".PNG\")  #存檔\n",
    "\n",
    "\n"
   ]
  },
  {
   "cell_type": "code",
   "execution_count": null,
   "metadata": {},
   "outputs": [],
   "source": []
  }
 ],
 "metadata": {
  "kernelspec": {
   "display_name": "Python 3",
   "language": "python",
   "name": "python3"
  },
  "language_info": {
   "codemirror_mode": {
    "name": "ipython",
    "version": 3
   },
   "file_extension": ".py",
   "mimetype": "text/x-python",
   "name": "python",
   "nbconvert_exporter": "python",
   "pygments_lexer": "ipython3",
   "version": "3.7.0"
  }
 },
 "nbformat": 4,
 "nbformat_minor": 2
}
