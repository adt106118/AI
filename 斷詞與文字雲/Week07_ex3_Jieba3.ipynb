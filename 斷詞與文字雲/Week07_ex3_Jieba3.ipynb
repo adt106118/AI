{
 "cells": [
  {
   "cell_type": "code",
   "execution_count": 3,
   "metadata": {},
   "outputs": [
    {
     "name": "stderr",
     "output_type": "stream",
     "text": [
      "Building prefix dict from C:\\Users\\User\\斷詞與文字雲\\dictionary\\dict.txt.big.txt ...\n",
      "Loading model from cache C:\\Users\\User\\AppData\\Local\\Temp\\jieba.ud7353758b036ca1420644bc78b32a485.cache\n",
      "Loading model cost 1.346 seconds.\n",
      "Prefix dict has been built succesfully.\n"
     ]
    },
    {
     "name": "stdout",
     "output_type": "stream",
     "text": [
      "我/來/台中/台中教育大學/教育/大學/數位/數位系/當/大学/大学生/学生\n",
      "我來/台中教育大學/數位系/當/大学生\n",
      "我來/台中/教育/大學/台中教育大學/數位/數位系/當/大学/学生/大学生\n"
     ]
    }
   ],
   "source": [
    "#encoding = utf-8\n",
    "import jieba\n",
    "\n",
    "jieba.set_dictionary(\"dictionary/dict.txt.big.txt\")\n",
    " \n",
    "jieba.add_word('數位系')\n",
    "\n",
    "sentence = \"我來台中教育大學數位系當大学生\"\n",
    "\n",
    "seg_list01 = jieba.cut(sentence, cut_all = True)\n",
    "print(\"/\". join(seg_list01))\n",
    "\n",
    "seg_list02 = jieba.cut(sentence, cut_all = False)\n",
    "print(\"/\". join(seg_list02))\n",
    "\n",
    "seg_list03 = jieba.cut_for_search(sentence)\n",
    "print(\"/\". join(seg_list03))"
   ]
  },
  {
   "cell_type": "code",
   "execution_count": null,
   "metadata": {},
   "outputs": [],
   "source": []
  }
 ],
 "metadata": {
  "kernelspec": {
   "display_name": "Python 3",
   "language": "python",
   "name": "python3"
  },
  "language_info": {
   "codemirror_mode": {
    "name": "ipython",
    "version": 3
   },
   "file_extension": ".py",
   "mimetype": "text/x-python",
   "name": "python",
   "nbconvert_exporter": "python",
   "pygments_lexer": "ipython3",
   "version": "3.7.0"
  }
 },
 "nbformat": 4,
 "nbformat_minor": 2
}
