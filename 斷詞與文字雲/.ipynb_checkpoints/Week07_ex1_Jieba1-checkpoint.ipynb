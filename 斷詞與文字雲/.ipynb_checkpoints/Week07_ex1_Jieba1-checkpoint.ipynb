{
 "cells": [
  {
   "cell_type": "code",
   "execution_count": 7,
   "metadata": {},
   "outputs": [
    {
     "name": "stdout",
     "output_type": "stream",
     "text": [
      "Full Mode:  我/來/到/台中/教育/大/學\n",
      "Default Mode:  我來/到/台/中/教育/大學\n",
      "我來/到/台/中/教育/大學\n",
      "他/畢業/於/台/中/教育/大學/，/畢業後到/日本/繼續/深造\n"
     ]
    }
   ],
   "source": [
    "#encoding = utf-8\n",
    "import jieba\n",
    "\n",
    "seg_list01 = jieba.cut(\"我來到台中教育大學\", cut_all= True)\n",
    "print(\"Full Mode: \", \"/\" . join(seg_list01)) #全模式\n",
    "\n",
    "seg_list02 = jieba.cut(\"我來到台中教育大學\", cut_all= False)\n",
    "print(\"Default Mode: \" , \"/\" . join(seg_list02)) #準確模式\n",
    "\n",
    "seg_list03 = jieba.cut(\"我來到台中教育大學\" )\n",
    "print(\"/\". join(seg_list03)) #預設為精確模式\n",
    "\n",
    "seg_list04 = jieba.cut_for_search(\"他畢業於台中教育大學，畢業後到日本繼續深造\")\n",
    "print(\"/\". join(seg_list04)) #搜索引擎模式"
   ]
  },
  {
   "cell_type": "code",
   "execution_count": null,
   "metadata": {},
   "outputs": [],
   "source": []
  }
 ],
 "metadata": {
  "kernelspec": {
   "display_name": "Python 3",
   "language": "python",
   "name": "python3"
  },
  "language_info": {
   "codemirror_mode": {
    "name": "ipython",
    "version": 3
   },
   "file_extension": ".py",
   "mimetype": "text/x-python",
   "name": "python",
   "nbconvert_exporter": "python",
   "pygments_lexer": "ipython3",
   "version": "3.7.0"
  }
 },
 "nbformat": 4,
 "nbformat_minor": 2
}
