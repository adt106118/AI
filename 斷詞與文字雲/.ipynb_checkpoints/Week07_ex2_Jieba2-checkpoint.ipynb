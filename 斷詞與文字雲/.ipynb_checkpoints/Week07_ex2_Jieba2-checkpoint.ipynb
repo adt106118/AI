{
 "cells": [
  {
   "cell_type": "code",
   "execution_count": 6,
   "metadata": {},
   "outputs": [
    {
     "name": "stderr",
     "output_type": "stream",
     "text": [
      "Building prefix dict from C:\\Users\\User\\斷詞與文字雲\\dictionary\\dict.txt.big.txt ...\n",
      "Loading model from cache C:\\Users\\User\\AppData\\Local\\Temp\\jieba.ud7353758b036ca1420644bc78b32a485.cache\n",
      "Loading model cost 1.409 seconds.\n",
      "Prefix dict has been built succesfully.\n"
     ]
    },
    {
     "name": "stdout",
     "output_type": "stream",
     "text": [
      "Full Mode:  我/來到/台中/台中教育大學/教育/大學////\n",
      "Default Mode:  我/來到/台中教育大學/ア/ニ/メ\n",
      "我/來到/台中教育大學/ア/ニ/メ\n",
      "他/畢業/於/台中/教育/大學/台中教育大學/，/畢業/後/到/日本/繼續/深造\n"
     ]
    }
   ],
   "source": [
    "#encoding = utf-8\n",
    "import jieba\n",
    "\n",
    "jieba.set_dictionary(\"dictionary/dict.txt.big.txt\")\n",
    "\n",
    "sentence01 = \"我來到台中教育大學アニメ\"\n",
    "\n",
    "seg_list01 = jieba.cut(sentence01, cut_all= True)\n",
    "print(\"Full Mode: \", \"/\" . join(seg_list01)) #全模式\n",
    "\n",
    "seg_list02 = jieba.cut(sentence01, cut_all= False)\n",
    "print(\"Default Mode: \" , \"/\" . join(seg_list02)) #準確模式\n",
    "\n",
    "seg_list03 = jieba.cut(sentence01 )\n",
    "print(\"/\". join(seg_list03)) #預設為精確模式\n",
    "\n",
    "seg_list04 = jieba.cut_for_search(\"他畢業於台中教育大學，畢業後到日本繼續深造\")\n",
    "print(\"/\". join(seg_list04)) #搜索引擎模式"
   ]
  },
  {
   "cell_type": "code",
   "execution_count": null,
   "metadata": {},
   "outputs": [],
   "source": []
  }
 ],
 "metadata": {
  "kernelspec": {
   "display_name": "Python 3",
   "language": "python",
   "name": "python3"
  },
  "language_info": {
   "codemirror_mode": {
    "name": "ipython",
    "version": 3
   },
   "file_extension": ".py",
   "mimetype": "text/x-python",
   "name": "python",
   "nbconvert_exporter": "python",
   "pygments_lexer": "ipython3",
   "version": "3.7.0"
  }
 },
 "nbformat": 4,
 "nbformat_minor": 2
}
