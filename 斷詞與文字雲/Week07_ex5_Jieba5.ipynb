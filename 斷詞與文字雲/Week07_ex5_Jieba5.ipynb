{
 "cells": [
  {
   "cell_type": "code",
   "execution_count": 20,
   "metadata": {},
   "outputs": [
    {
     "name": "stderr",
     "output_type": "stream",
     "text": [
      "Building prefix dict from C:\\Users\\User\\斷詞與文字雲\\dictionary\\dict.txt.big.txt ...\n",
      "Loading model from cache C:\\Users\\User\\AppData\\Local\\Temp\\jieba.ud7353758b036ca1420644bc78b32a485.cache\n",
      "Loading model cost 1.412 seconds.\n",
      "Prefix dict has been built succesfully.\n"
     ]
    },
    {
     "name": "stdout",
     "output_type": "stream",
     "text": [
      "停用詞: ， | 。 | 学校\n",
      "\n",
      "去除停用的預設:我來|台|中学|校|國立臺中教育大學|數位內容科技學系|當|大学生\n",
      "\n",
      "預設模式: 我來|，|台|中学|校|，|國立臺中教育大學|數位內容科技學系|當|大学生|。\n",
      "全文模式: 我|來|||台中|中学|学校|||國立|國立臺中教育大學|臺中|教育|大學|數位|數位內容科技學系|內容|科技|學系|當|大学|大学生|学生||\n",
      "搜尋模式: 我來|，|台|中学|校|，|國立|臺中|教育|大學|國立臺中教育大學|數位|內容|科技|學系|數位內容科技學系|當|大学|学生|大学生|。\n"
     ]
    }
   ],
   "source": [
    "#encoding = utf-8\n",
    "import jieba\n",
    "\n",
    "jieba.set_dictionary(\"dictionary/dict.txt.big.txt\")\n",
    "jieba.load_userdict(\"dictionary/user_dict.txt\")\n",
    "\n",
    "with open(\"dictionary/stopword.txt\", \"r\", encoding = \"utf-8-sig\") as file:\n",
    "    stops = file.read().split(\"\\n\") #將停用詞儲存在stops陣列中\n",
    "print(\"停用詞: \"+\" | \". join(stops))\n",
    "\n",
    "sentence = \"我來，台中学校，國立臺中教育大學數位內容科技學系當大学生。\"\n",
    "\n",
    "breakwords01 = jieba.cut(sentence, cut_all = False)\n",
    "lastwords = []\n",
    "\n",
    "for words in breakwords01:\n",
    "    if words not in stops:\n",
    "        lastwords.append(words)\n",
    "print(\"\\n去除停用的預設:\" + \"|\".join(lastwords))\n",
    "\n",
    "breakwords02 = jieba.cut(sentence, cut_all = False)\n",
    "print(\"\\n預設模式: \" + \"|\".join(breakwords02))\n",
    "\n",
    "breakwords03 = jieba.cut(sentence, cut_all = True)\n",
    "print(\"全文模式: \" + \"|\".join(breakwords03))\n",
    "\n",
    "breakwords04 = jieba.cut_for_search(sentence)\n",
    "print(\"搜尋模式: \" + \"|\".join(breakwords04))\n",
    "\n"
   ]
  },
  {
   "cell_type": "code",
   "execution_count": null,
   "metadata": {},
   "outputs": [],
   "source": []
  },
  {
   "cell_type": "code",
   "execution_count": null,
   "metadata": {},
   "outputs": [],
   "source": []
  }
 ],
 "metadata": {
  "kernelspec": {
   "display_name": "Python 3",
   "language": "python",
   "name": "python3"
  },
  "language_info": {
   "codemirror_mode": {
    "name": "ipython",
    "version": 3
   },
   "file_extension": ".py",
   "mimetype": "text/x-python",
   "name": "python",
   "nbconvert_exporter": "python",
   "pygments_lexer": "ipython3",
   "version": "3.7.0"
  }
 },
 "nbformat": 4,
 "nbformat_minor": 2
}
